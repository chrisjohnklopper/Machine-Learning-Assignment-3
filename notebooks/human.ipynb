{
 "cells": [
  {
   "cell_type": "code",
   "execution_count": 3,
   "id": "b7cd4d3e",
   "metadata": {},
   "outputs": [],
   "source": [
    "import pandas as pd\n",
    "import matplotlib.pyplot as plt\n",
    "import numpy as np\n",
    "from sklearn.model_selection import TimeSeriesSplit\n",
    "from util import training, ElmanRNN, JordanRNN, MultiRecurrentNN, convert_feature_into_cyclic\n",
    "from sklearn.preprocessing import RobustScaler\n",
    "\n",
    "#pd.set_option('display.max_columns', None)\n",
    "#pd.set_option('display.width', 1000)\n",
    "\n"
   ]
  },
  {
   "cell_type": "code",
   "execution_count": 4,
   "id": "421028e1",
   "metadata": {},
   "outputs": [],
   "source": [
    "data = pd.read_csv('../csvs/humanactrecog/time_series_data_human_activities.csv')"
   ]
  },
  {
   "cell_type": "code",
   "execution_count": 11,
   "id": "da81d7b9",
   "metadata": {},
   "outputs": [
    {
     "data": {
      "text/plain": [
       "np.int64(20)"
      ]
     },
     "execution_count": 11,
     "metadata": {},
     "output_type": "execute_result"
    }
   ],
   "source": [
    "data['user'].value_counts().idxmax()"
   ]
  },
  {
   "cell_type": "code",
   "execution_count": 1,
   "id": "5778bcff",
   "metadata": {},
   "outputs": [
    {
     "ename": "NameError",
     "evalue": "name 'data' is not defined",
     "output_type": "error",
     "traceback": [
      "\u001b[31m---------------------------------------------------------------------------\u001b[39m",
      "\u001b[31mNameError\u001b[39m                                 Traceback (most recent call last)",
      "\u001b[36mCell\u001b[39m\u001b[36m \u001b[39m\u001b[32mIn[1]\u001b[39m\u001b[32m, line 3\u001b[39m\n\u001b[32m      1\u001b[39m \u001b[38;5;28;01mfrom\u001b[39;00m\u001b[38;5;250m \u001b[39m\u001b[34;01mutil\u001b[39;00m\u001b[38;5;250m \u001b[39m\u001b[38;5;28;01mimport\u001b[39;00m create_sequences\n\u001b[32m----> \u001b[39m\u001b[32m3\u001b[39m create_sequences(\u001b[43mdata\u001b[49m.drop(columns=[\u001b[33m'\u001b[39m\u001b[33muser\u001b[39m\u001b[33m'\u001b[39m, \u001b[33m'\u001b[39m\u001b[33mactivity\u001b[39m\u001b[33m'\u001b[39m]), data[\u001b[33m'\u001b[39m\u001b[33mactivity\u001b[39m\u001b[33m'\u001b[39m],sequence_length=\u001b[32m32\u001b[39m)\n",
      "\u001b[31mNameError\u001b[39m: name 'data' is not defined"
     ]
    }
   ],
   "source": [
    "from util import create_sequences\n",
    "\n",
    "create_sequences(data.drop(columns=['user', 'activity']), data['activity'],sequence_length=32)"
   ]
  }
 ],
 "metadata": {
  "kernelspec": {
   "display_name": ".venv",
   "language": "python",
   "name": "python3"
  },
  "language_info": {
   "codemirror_mode": {
    "name": "ipython",
    "version": 3
   },
   "file_extension": ".py",
   "mimetype": "text/x-python",
   "name": "python",
   "nbconvert_exporter": "python",
   "pygments_lexer": "ipython3",
   "version": "3.12.3"
  }
 },
 "nbformat": 4,
 "nbformat_minor": 5
}
